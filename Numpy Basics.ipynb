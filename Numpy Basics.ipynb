{
 "cells": [
  {
   "cell_type": "code",
   "execution_count": 12,
   "metadata": {},
   "outputs": [
    {
     "name": "stdout",
     "output_type": "stream",
     "text": [
      "[0. 0. 0. 0. 0. 0. 0. 0. 0. 0.]\n",
      "[1. 1. 1. 1. 1. 1. 1. 1. 1. 1.]\n",
      "[[5 5 5 5 5 5 5 5 5 5]]\n"
     ]
    }
   ],
   "source": [
    "from numpy import array, unique, arange, full, reshape, zeros, ones\n",
    "import numpy\n",
    "\n",
    "all_0s = zeros(10)\n",
    "all_1s = ones(10)\n",
    "all_5s = full( (1, 10), 5 )\n",
    "\n",
    "print(all_0s)\n",
    "print(all_1s)\n",
    "print(all_5s)"
   ]
  },
  {
   "cell_type": "code",
   "execution_count": 14,
   "metadata": {},
   "outputs": [
    {
     "name": "stdout",
     "output_type": "stream",
     "text": [
      "[10 11 12 13 14 15 16 17 18 19 20 21 22 23 24 25 26 27 28 29 30 31 32 33\n",
      " 34 35 36 37 38 39 40 41 42 43 44 45 46 47 48 49 50]\n",
      "[[0 1 2]\n",
      " [3 4 5]\n",
      " [6 7 8]]\n"
     ]
    }
   ],
   "source": [
    "ten_to_fifty = arange(10, 51)\n",
    "zero_to_eight = arange(0, 9)\n",
    "zero_to_eight_square = reshape( zero_to_eight, (3, 3) )\n",
    "\n",
    "print(ten_to_fifty)\n",
    "print(zero_to_eight_square)"
   ]
  },
  {
   "cell_type": "code",
   "execution_count": 28,
   "metadata": {},
   "outputs": [
    {
     "name": "stdout",
     "output_type": "stream",
     "text": [
      "[0.35020171]\n",
      "[ 1.39180406 -0.56630882  0.57618044 -0.177592   -0.52753754  2.12574764\n",
      " -0.75108465  0.80273802 -0.05081241  1.60564221  0.7518716   0.81141838\n",
      " -1.58606168 -1.50962905 -0.9998095  -2.91384809 -1.45629508 -0.92123865\n",
      " -1.45938614  1.32648127  0.15884097 -0.51989399 -0.33403612 -1.29602489\n",
      " -1.12590773]\n"
     ]
    }
   ],
   "source": [
    "from numpy.random import rand, normal\n",
    "print(rand(1))\n",
    "print( normal(size = (25,)) )"
   ]
  },
  {
   "cell_type": "code",
   "execution_count": 34,
   "metadata": {},
   "outputs": [
    {
     "name": "stdout",
     "output_type": "stream",
     "text": [
      "[0.01 0.02 0.03 0.04 0.05 0.06 0.07 0.08 0.09 0.1  0.11 0.12 0.13 0.14\n",
      " 0.15 0.16 0.17 0.18 0.19 0.2  0.21 0.22 0.23 0.24 0.25 0.26 0.27 0.28\n",
      " 0.29 0.3  0.31 0.32 0.33 0.34 0.35 0.36 0.37 0.38 0.39 0.4  0.41 0.42\n",
      " 0.43 0.44 0.45 0.46 0.47 0.48 0.49 0.5  0.51 0.52 0.53 0.54 0.55 0.56\n",
      " 0.57 0.58 0.59 0.6  0.61 0.62 0.63 0.64 0.65 0.66 0.67 0.68 0.69 0.7\n",
      " 0.71 0.72 0.73 0.74 0.75 0.76 0.77 0.78 0.79 0.8  0.81 0.82 0.83 0.84\n",
      " 0.85 0.86 0.87 0.88 0.89 0.9  0.91 0.92 0.93 0.94 0.95 0.96 0.97 0.98\n",
      " 0.99 1.  ]\n"
     ]
    }
   ],
   "source": [
    "print( arange(0.01, 1.01, .01) )"
   ]
  },
  {
   "cell_type": "code",
   "execution_count": 37,
   "metadata": {},
   "outputs": [
    {
     "name": "stdout",
     "output_type": "stream",
     "text": [
      "[0.         0.05263158 0.10526316 0.15789474 0.21052632 0.26315789\n",
      " 0.31578947 0.36842105 0.42105263 0.47368421 0.52631579 0.57894737\n",
      " 0.63157895 0.68421053 0.73684211 0.78947368 0.84210526 0.89473684\n",
      " 0.94736842 1.        ]\n"
     ]
    }
   ],
   "source": [
    "from numpy import linspace\n",
    "print( linspace(0, 1, 20) )"
   ]
  },
  {
   "cell_type": "code",
   "execution_count": 54,
   "metadata": {},
   "outputs": [
    {
     "name": "stdout",
     "output_type": "stream",
     "text": [
      "[[12 13 14 15]\n",
      " [17 18 19 20]\n",
      " [22 23 24 25]]\n",
      "20\n",
      "[ 2  7 12]\n",
      "[21 22 23 24 25]\n",
      "\n",
      "[[16 17 18 19 20]\n",
      " [21 22 23 24 25]]\n"
     ]
    }
   ],
   "source": [
    "from numpy import arange, reshape\n",
    "mat = arange(1,26).reshape(5,5)\n",
    "\n",
    "print( mat[2:5, 1:5] )\n",
    "print( mat[3, 4] )\n",
    "print( mat[0:3, 1] )\n",
    "print( mat[4, 0:5] )\n",
    "print()\n",
    "print( mat[3:5, 0:5] )"
   ]
  },
  {
   "cell_type": "code",
   "execution_count": 58,
   "metadata": {},
   "outputs": [
    {
     "name": "stdout",
     "output_type": "stream",
     "text": [
      "325\n",
      "[55 60 65 70 75]\n",
      "7.211102550927978\n"
     ]
    }
   ],
   "source": [
    "from numpy import sum, std\n",
    "\n",
    "mat = arange(1,26).reshape(5,5)\n",
    "print( sum(mat) )\n",
    "print( sum(mat, axis=0) ) # sum of columns\n",
    "print( std(mat) ) # standard dev of array"
   ]
  },
  {
   "cell_type": "code",
   "execution_count": null,
   "metadata": {},
   "outputs": [],
   "source": []
  }
 ],
 "metadata": {
  "kernelspec": {
   "display_name": "Python 3",
   "language": "python",
   "name": "python3"
  },
  "language_info": {
   "codemirror_mode": {
    "name": "ipython",
    "version": 3
   },
   "file_extension": ".py",
   "mimetype": "text/x-python",
   "name": "python",
   "nbconvert_exporter": "python",
   "pygments_lexer": "ipython3",
   "version": "3.7.7"
  }
 },
 "nbformat": 4,
 "nbformat_minor": 4
}
