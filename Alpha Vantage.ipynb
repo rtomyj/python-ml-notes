{
 "cells": [
  {
   "cell_type": "code",
   "execution_count": 1,
   "metadata": {},
   "outputs": [
    {
     "data": {
      "text/plain": [
       "276.42595515649083"
      ]
     },
     "execution_count": 1,
     "metadata": {},
     "output_type": "execute_result"
    }
   ],
   "source": [
    "import requests\n",
    "responds = requests.get('https://www.alphavantage.co/query?function=TIME_SERIES_INTRADAY&symbol=AAPL&interval=1min&apikey={{ALPHA_VANTAGE_API_KEY}}&outputsize=full')\n",
    "data = responds.json()\n",
    "data_pts = data['Time Series (1min)']\n",
    "\n",
    "total_volume = 0\n",
    "total_open = float(0)\n",
    "for (key, value) in data_pts.items():\n",
    "    total_open += float(value['1. open'])\n",
    "    total_volume += int(value['5. volume'])\n",
    "    \n",
    "total_volume\n",
    "total_open\n",
    "total_open / len(data_pts)"
   ]
  },
  {
   "cell_type": "code",
   "execution_count": null,
   "metadata": {},
   "outputs": [],
   "source": []
  }
 ],
 "metadata": {
  "kernelspec": {
   "display_name": "Python 3",
   "language": "python",
   "name": "python3"
  },
  "language_info": {
   "codemirror_mode": {
    "name": "ipython",
    "version": 3
   },
   "file_extension": ".py",
   "mimetype": "text/x-python",
   "name": "python",
   "nbconvert_exporter": "python",
   "pygments_lexer": "ipython3",
   "version": "3.7.7"
  }
 },
 "nbformat": 4,
 "nbformat_minor": 4
}
